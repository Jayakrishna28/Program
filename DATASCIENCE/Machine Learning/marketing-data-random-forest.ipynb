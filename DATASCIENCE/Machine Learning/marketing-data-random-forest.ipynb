{
 "cells": [
  {
   "cell_type": "code",
   "execution_count": 1,
   "id": "dbe3eae5",
   "metadata": {
    "execution": {
     "iopub.execute_input": "2024-04-22T18:11:24.810610Z",
     "iopub.status.busy": "2024-04-22T18:11:24.809694Z",
     "iopub.status.idle": "2024-04-22T18:11:27.441009Z",
     "shell.execute_reply": "2024-04-22T18:11:27.439791Z"
    },
    "papermill": {
     "duration": 2.639915,
     "end_time": "2024-04-22T18:11:27.443778",
     "exception": false,
     "start_time": "2024-04-22T18:11:24.803863",
     "status": "completed"
    },
    "tags": []
   },
   "outputs": [],
   "source": [
    "import pandas as pd\n",
    "pd.set_option('display.max_columns', None)\n",
    "pd.set_option('display.float_format', lambda x: '%.4f' % x)\n",
    "import numpy as np\n",
    "import matplotlib.pyplot as plt\n",
    "import seaborn as sns\n",
    "sns.set()\n",
    "\n",
    "from sklearn.ensemble import RandomForestClassifier\n",
    "from sklearn.model_selection import train_test_split\n",
    "from sklearn.metrics import precision_score, recall_score\n",
    "from sklearn.metrics import roc_auc_score\n",
    "from sklearn.metrics import roc_curve"
   ]
  },
  {
   "cell_type": "code",
   "execution_count": 2,
   "id": "e99bc23c",
   "metadata": {
    "execution": {
     "iopub.execute_input": "2024-04-22T18:11:27.455015Z",
     "iopub.status.busy": "2024-04-22T18:11:27.454557Z",
     "iopub.status.idle": "2024-04-22T18:11:27.494971Z",
     "shell.execute_reply": "2024-04-22T18:11:27.493775Z"
    },
    "papermill": {
     "duration": 0.048039,
     "end_time": "2024-04-22T18:11:27.497248",
     "exception": false,
     "start_time": "2024-04-22T18:11:27.449209",
     "status": "completed"
    },
    "tags": []
   },
   "outputs": [],
   "source": [
    "df = pd.read_csv('/kaggle/input/marketing-data/ifood_df.csv')"
   ]
  },
  {
   "cell_type": "code",
   "execution_count": 3,
   "id": "d8b9d484",
   "metadata": {
    "execution": {
     "iopub.execute_input": "2024-04-22T18:11:27.506682Z",
     "iopub.status.busy": "2024-04-22T18:11:27.506394Z",
     "iopub.status.idle": "2024-04-22T18:11:27.536329Z",
     "shell.execute_reply": "2024-04-22T18:11:27.535124Z"
    },
    "papermill": {
     "duration": 0.037431,
     "end_time": "2024-04-22T18:11:27.538765",
     "exception": false,
     "start_time": "2024-04-22T18:11:27.501334",
     "status": "completed"
    },
    "tags": []
   },
   "outputs": [
    {
     "data": {
      "text/html": [
       "<div>\n",
       "<style scoped>\n",
       "    .dataframe tbody tr th:only-of-type {\n",
       "        vertical-align: middle;\n",
       "    }\n",
       "\n",
       "    .dataframe tbody tr th {\n",
       "        vertical-align: top;\n",
       "    }\n",
       "\n",
       "    .dataframe thead th {\n",
       "        text-align: right;\n",
       "    }\n",
       "</style>\n",
       "<table border=\"1\" class=\"dataframe\">\n",
       "  <thead>\n",
       "    <tr style=\"text-align: right;\">\n",
       "      <th></th>\n",
       "      <th>Income</th>\n",
       "      <th>Kidhome</th>\n",
       "      <th>Teenhome</th>\n",
       "      <th>Recency</th>\n",
       "      <th>MntWines</th>\n",
       "      <th>MntFruits</th>\n",
       "      <th>MntMeatProducts</th>\n",
       "      <th>MntFishProducts</th>\n",
       "      <th>MntSweetProducts</th>\n",
       "      <th>MntGoldProds</th>\n",
       "      <th>NumDealsPurchases</th>\n",
       "      <th>NumWebPurchases</th>\n",
       "      <th>NumCatalogPurchases</th>\n",
       "      <th>NumStorePurchases</th>\n",
       "      <th>NumWebVisitsMonth</th>\n",
       "      <th>AcceptedCmp3</th>\n",
       "      <th>AcceptedCmp4</th>\n",
       "      <th>AcceptedCmp5</th>\n",
       "      <th>AcceptedCmp1</th>\n",
       "      <th>AcceptedCmp2</th>\n",
       "      <th>Complain</th>\n",
       "      <th>Z_CostContact</th>\n",
       "      <th>Z_Revenue</th>\n",
       "      <th>Response</th>\n",
       "      <th>Age</th>\n",
       "      <th>Customer_Days</th>\n",
       "      <th>marital_Divorced</th>\n",
       "      <th>marital_Married</th>\n",
       "      <th>marital_Single</th>\n",
       "      <th>marital_Together</th>\n",
       "      <th>marital_Widow</th>\n",
       "      <th>education_2n Cycle</th>\n",
       "      <th>education_Basic</th>\n",
       "      <th>education_Graduation</th>\n",
       "      <th>education_Master</th>\n",
       "      <th>education_PhD</th>\n",
       "      <th>MntTotal</th>\n",
       "      <th>MntRegularProds</th>\n",
       "      <th>AcceptedCmpOverall</th>\n",
       "    </tr>\n",
       "  </thead>\n",
       "  <tbody>\n",
       "    <tr>\n",
       "      <th>0</th>\n",
       "      <td>58138.0000</td>\n",
       "      <td>0</td>\n",
       "      <td>0</td>\n",
       "      <td>58</td>\n",
       "      <td>635</td>\n",
       "      <td>88</td>\n",
       "      <td>546</td>\n",
       "      <td>172</td>\n",
       "      <td>88</td>\n",
       "      <td>88</td>\n",
       "      <td>3</td>\n",
       "      <td>8</td>\n",
       "      <td>10</td>\n",
       "      <td>4</td>\n",
       "      <td>7</td>\n",
       "      <td>0</td>\n",
       "      <td>0</td>\n",
       "      <td>0</td>\n",
       "      <td>0</td>\n",
       "      <td>0</td>\n",
       "      <td>0</td>\n",
       "      <td>3</td>\n",
       "      <td>11</td>\n",
       "      <td>1</td>\n",
       "      <td>63</td>\n",
       "      <td>2822</td>\n",
       "      <td>0</td>\n",
       "      <td>0</td>\n",
       "      <td>1</td>\n",
       "      <td>0</td>\n",
       "      <td>0</td>\n",
       "      <td>0</td>\n",
       "      <td>0</td>\n",
       "      <td>1</td>\n",
       "      <td>0</td>\n",
       "      <td>0</td>\n",
       "      <td>1529</td>\n",
       "      <td>1441</td>\n",
       "      <td>0</td>\n",
       "    </tr>\n",
       "    <tr>\n",
       "      <th>1</th>\n",
       "      <td>46344.0000</td>\n",
       "      <td>1</td>\n",
       "      <td>1</td>\n",
       "      <td>38</td>\n",
       "      <td>11</td>\n",
       "      <td>1</td>\n",
       "      <td>6</td>\n",
       "      <td>2</td>\n",
       "      <td>1</td>\n",
       "      <td>6</td>\n",
       "      <td>2</td>\n",
       "      <td>1</td>\n",
       "      <td>1</td>\n",
       "      <td>2</td>\n",
       "      <td>5</td>\n",
       "      <td>0</td>\n",
       "      <td>0</td>\n",
       "      <td>0</td>\n",
       "      <td>0</td>\n",
       "      <td>0</td>\n",
       "      <td>0</td>\n",
       "      <td>3</td>\n",
       "      <td>11</td>\n",
       "      <td>0</td>\n",
       "      <td>66</td>\n",
       "      <td>2272</td>\n",
       "      <td>0</td>\n",
       "      <td>0</td>\n",
       "      <td>1</td>\n",
       "      <td>0</td>\n",
       "      <td>0</td>\n",
       "      <td>0</td>\n",
       "      <td>0</td>\n",
       "      <td>1</td>\n",
       "      <td>0</td>\n",
       "      <td>0</td>\n",
       "      <td>21</td>\n",
       "      <td>15</td>\n",
       "      <td>0</td>\n",
       "    </tr>\n",
       "    <tr>\n",
       "      <th>2</th>\n",
       "      <td>71613.0000</td>\n",
       "      <td>0</td>\n",
       "      <td>0</td>\n",
       "      <td>26</td>\n",
       "      <td>426</td>\n",
       "      <td>49</td>\n",
       "      <td>127</td>\n",
       "      <td>111</td>\n",
       "      <td>21</td>\n",
       "      <td>42</td>\n",
       "      <td>1</td>\n",
       "      <td>8</td>\n",
       "      <td>2</td>\n",
       "      <td>10</td>\n",
       "      <td>4</td>\n",
       "      <td>0</td>\n",
       "      <td>0</td>\n",
       "      <td>0</td>\n",
       "      <td>0</td>\n",
       "      <td>0</td>\n",
       "      <td>0</td>\n",
       "      <td>3</td>\n",
       "      <td>11</td>\n",
       "      <td>0</td>\n",
       "      <td>55</td>\n",
       "      <td>2471</td>\n",
       "      <td>0</td>\n",
       "      <td>0</td>\n",
       "      <td>0</td>\n",
       "      <td>1</td>\n",
       "      <td>0</td>\n",
       "      <td>0</td>\n",
       "      <td>0</td>\n",
       "      <td>1</td>\n",
       "      <td>0</td>\n",
       "      <td>0</td>\n",
       "      <td>734</td>\n",
       "      <td>692</td>\n",
       "      <td>0</td>\n",
       "    </tr>\n",
       "    <tr>\n",
       "      <th>3</th>\n",
       "      <td>26646.0000</td>\n",
       "      <td>1</td>\n",
       "      <td>0</td>\n",
       "      <td>26</td>\n",
       "      <td>11</td>\n",
       "      <td>4</td>\n",
       "      <td>20</td>\n",
       "      <td>10</td>\n",
       "      <td>3</td>\n",
       "      <td>5</td>\n",
       "      <td>2</td>\n",
       "      <td>2</td>\n",
       "      <td>0</td>\n",
       "      <td>4</td>\n",
       "      <td>6</td>\n",
       "      <td>0</td>\n",
       "      <td>0</td>\n",
       "      <td>0</td>\n",
       "      <td>0</td>\n",
       "      <td>0</td>\n",
       "      <td>0</td>\n",
       "      <td>3</td>\n",
       "      <td>11</td>\n",
       "      <td>0</td>\n",
       "      <td>36</td>\n",
       "      <td>2298</td>\n",
       "      <td>0</td>\n",
       "      <td>0</td>\n",
       "      <td>0</td>\n",
       "      <td>1</td>\n",
       "      <td>0</td>\n",
       "      <td>0</td>\n",
       "      <td>0</td>\n",
       "      <td>1</td>\n",
       "      <td>0</td>\n",
       "      <td>0</td>\n",
       "      <td>48</td>\n",
       "      <td>43</td>\n",
       "      <td>0</td>\n",
       "    </tr>\n",
       "    <tr>\n",
       "      <th>4</th>\n",
       "      <td>58293.0000</td>\n",
       "      <td>1</td>\n",
       "      <td>0</td>\n",
       "      <td>94</td>\n",
       "      <td>173</td>\n",
       "      <td>43</td>\n",
       "      <td>118</td>\n",
       "      <td>46</td>\n",
       "      <td>27</td>\n",
       "      <td>15</td>\n",
       "      <td>5</td>\n",
       "      <td>5</td>\n",
       "      <td>3</td>\n",
       "      <td>6</td>\n",
       "      <td>5</td>\n",
       "      <td>0</td>\n",
       "      <td>0</td>\n",
       "      <td>0</td>\n",
       "      <td>0</td>\n",
       "      <td>0</td>\n",
       "      <td>0</td>\n",
       "      <td>3</td>\n",
       "      <td>11</td>\n",
       "      <td>0</td>\n",
       "      <td>39</td>\n",
       "      <td>2320</td>\n",
       "      <td>0</td>\n",
       "      <td>1</td>\n",
       "      <td>0</td>\n",
       "      <td>0</td>\n",
       "      <td>0</td>\n",
       "      <td>0</td>\n",
       "      <td>0</td>\n",
       "      <td>0</td>\n",
       "      <td>0</td>\n",
       "      <td>1</td>\n",
       "      <td>407</td>\n",
       "      <td>392</td>\n",
       "      <td>0</td>\n",
       "    </tr>\n",
       "  </tbody>\n",
       "</table>\n",
       "</div>"
      ],
      "text/plain": [
       "      Income  Kidhome  Teenhome  Recency  MntWines  MntFruits  \\\n",
       "0 58138.0000        0         0       58       635         88   \n",
       "1 46344.0000        1         1       38        11          1   \n",
       "2 71613.0000        0         0       26       426         49   \n",
       "3 26646.0000        1         0       26        11          4   \n",
       "4 58293.0000        1         0       94       173         43   \n",
       "\n",
       "   MntMeatProducts  MntFishProducts  MntSweetProducts  MntGoldProds  \\\n",
       "0              546              172                88            88   \n",
       "1                6                2                 1             6   \n",
       "2              127              111                21            42   \n",
       "3               20               10                 3             5   \n",
       "4              118               46                27            15   \n",
       "\n",
       "   NumDealsPurchases  NumWebPurchases  NumCatalogPurchases  NumStorePurchases  \\\n",
       "0                  3                8                   10                  4   \n",
       "1                  2                1                    1                  2   \n",
       "2                  1                8                    2                 10   \n",
       "3                  2                2                    0                  4   \n",
       "4                  5                5                    3                  6   \n",
       "\n",
       "   NumWebVisitsMonth  AcceptedCmp3  AcceptedCmp4  AcceptedCmp5  AcceptedCmp1  \\\n",
       "0                  7             0             0             0             0   \n",
       "1                  5             0             0             0             0   \n",
       "2                  4             0             0             0             0   \n",
       "3                  6             0             0             0             0   \n",
       "4                  5             0             0             0             0   \n",
       "\n",
       "   AcceptedCmp2  Complain  Z_CostContact  Z_Revenue  Response  Age  \\\n",
       "0             0         0              3         11         1   63   \n",
       "1             0         0              3         11         0   66   \n",
       "2             0         0              3         11         0   55   \n",
       "3             0         0              3         11         0   36   \n",
       "4             0         0              3         11         0   39   \n",
       "\n",
       "   Customer_Days  marital_Divorced  marital_Married  marital_Single  \\\n",
       "0           2822                 0                0               1   \n",
       "1           2272                 0                0               1   \n",
       "2           2471                 0                0               0   \n",
       "3           2298                 0                0               0   \n",
       "4           2320                 0                1               0   \n",
       "\n",
       "   marital_Together  marital_Widow  education_2n Cycle  education_Basic  \\\n",
       "0                 0              0                   0                0   \n",
       "1                 0              0                   0                0   \n",
       "2                 1              0                   0                0   \n",
       "3                 1              0                   0                0   \n",
       "4                 0              0                   0                0   \n",
       "\n",
       "   education_Graduation  education_Master  education_PhD  MntTotal  \\\n",
       "0                     1                 0              0      1529   \n",
       "1                     1                 0              0        21   \n",
       "2                     1                 0              0       734   \n",
       "3                     1                 0              0        48   \n",
       "4                     0                 0              1       407   \n",
       "\n",
       "   MntRegularProds  AcceptedCmpOverall  \n",
       "0             1441                   0  \n",
       "1               15                   0  \n",
       "2              692                   0  \n",
       "3               43                   0  \n",
       "4              392                   0  "
      ]
     },
     "execution_count": 3,
     "metadata": {},
     "output_type": "execute_result"
    }
   ],
   "source": [
    "df.head()"
   ]
  },
  {
   "cell_type": "code",
   "execution_count": 4,
   "id": "232440d8",
   "metadata": {
    "execution": {
     "iopub.execute_input": "2024-04-22T18:11:27.549507Z",
     "iopub.status.busy": "2024-04-22T18:11:27.549185Z",
     "iopub.status.idle": "2024-04-22T18:11:27.566271Z",
     "shell.execute_reply": "2024-04-22T18:11:27.564957Z"
    },
    "papermill": {
     "duration": 0.025151,
     "end_time": "2024-04-22T18:11:27.568674",
     "exception": false,
     "start_time": "2024-04-22T18:11:27.543523",
     "status": "completed"
    },
    "tags": []
   },
   "outputs": [
    {
     "data": {
      "text/plain": [
       "184"
      ]
     },
     "execution_count": 4,
     "metadata": {},
     "output_type": "execute_result"
    }
   ],
   "source": [
    "df.duplicated().sum()"
   ]
  },
  {
   "cell_type": "code",
   "execution_count": 5,
   "id": "6f673f55",
   "metadata": {
    "execution": {
     "iopub.execute_input": "2024-04-22T18:11:27.580085Z",
     "iopub.status.busy": "2024-04-22T18:11:27.579719Z",
     "iopub.status.idle": "2024-04-22T18:11:27.592675Z",
     "shell.execute_reply": "2024-04-22T18:11:27.591464Z"
    },
    "papermill": {
     "duration": 0.021441,
     "end_time": "2024-04-22T18:11:27.595036",
     "exception": false,
     "start_time": "2024-04-22T18:11:27.573595",
     "status": "completed"
    },
    "tags": []
   },
   "outputs": [],
   "source": [
    "df.drop_duplicates(inplace = True)"
   ]
  },
  {
   "cell_type": "code",
   "execution_count": 6,
   "id": "cc5e2f92",
   "metadata": {
    "execution": {
     "iopub.execute_input": "2024-04-22T18:11:27.606075Z",
     "iopub.status.busy": "2024-04-22T18:11:27.605764Z",
     "iopub.status.idle": "2024-04-22T18:11:27.612783Z",
     "shell.execute_reply": "2024-04-22T18:11:27.611816Z"
    },
    "papermill": {
     "duration": 0.015365,
     "end_time": "2024-04-22T18:11:27.615282",
     "exception": false,
     "start_time": "2024-04-22T18:11:27.599917",
     "status": "completed"
    },
    "tags": []
   },
   "outputs": [
    {
     "data": {
      "text/plain": [
       "0"
      ]
     },
     "execution_count": 6,
     "metadata": {},
     "output_type": "execute_result"
    }
   ],
   "source": [
    "df.isnull().sum().sum()"
   ]
  },
  {
   "cell_type": "code",
   "execution_count": 7,
   "id": "1e8b6a85",
   "metadata": {
    "execution": {
     "iopub.execute_input": "2024-04-22T18:11:27.627263Z",
     "iopub.status.busy": "2024-04-22T18:11:27.626526Z",
     "iopub.status.idle": "2024-04-22T18:11:27.632675Z",
     "shell.execute_reply": "2024-04-22T18:11:27.631560Z"
    },
    "papermill": {
     "duration": 0.01429,
     "end_time": "2024-04-22T18:11:27.634529",
     "exception": false,
     "start_time": "2024-04-22T18:11:27.620239",
     "status": "completed"
    },
    "tags": []
   },
   "outputs": [
    {
     "data": {
      "text/plain": [
       "(2021, 39)"
      ]
     },
     "execution_count": 7,
     "metadata": {},
     "output_type": "execute_result"
    }
   ],
   "source": [
    "df.shape"
   ]
  },
  {
   "cell_type": "code",
   "execution_count": 8,
   "id": "8af065dc",
   "metadata": {
    "execution": {
     "iopub.execute_input": "2024-04-22T18:11:27.645389Z",
     "iopub.status.busy": "2024-04-22T18:11:27.645047Z",
     "iopub.status.idle": "2024-04-22T18:11:27.661745Z",
     "shell.execute_reply": "2024-04-22T18:11:27.660627Z"
    },
    "papermill": {
     "duration": 0.024527,
     "end_time": "2024-04-22T18:11:27.663766",
     "exception": false,
     "start_time": "2024-04-22T18:11:27.639239",
     "status": "completed"
    },
    "tags": []
   },
   "outputs": [
    {
     "name": "stdout",
     "output_type": "stream",
     "text": [
      "<class 'pandas.core.frame.DataFrame'>\n",
      "Index: 2021 entries, 0 to 2204\n",
      "Data columns (total 39 columns):\n",
      " #   Column                Non-Null Count  Dtype  \n",
      "---  ------                --------------  -----  \n",
      " 0   Income                2021 non-null   float64\n",
      " 1   Kidhome               2021 non-null   int64  \n",
      " 2   Teenhome              2021 non-null   int64  \n",
      " 3   Recency               2021 non-null   int64  \n",
      " 4   MntWines              2021 non-null   int64  \n",
      " 5   MntFruits             2021 non-null   int64  \n",
      " 6   MntMeatProducts       2021 non-null   int64  \n",
      " 7   MntFishProducts       2021 non-null   int64  \n",
      " 8   MntSweetProducts      2021 non-null   int64  \n",
      " 9   MntGoldProds          2021 non-null   int64  \n",
      " 10  NumDealsPurchases     2021 non-null   int64  \n",
      " 11  NumWebPurchases       2021 non-null   int64  \n",
      " 12  NumCatalogPurchases   2021 non-null   int64  \n",
      " 13  NumStorePurchases     2021 non-null   int64  \n",
      " 14  NumWebVisitsMonth     2021 non-null   int64  \n",
      " 15  AcceptedCmp3          2021 non-null   int64  \n",
      " 16  AcceptedCmp4          2021 non-null   int64  \n",
      " 17  AcceptedCmp5          2021 non-null   int64  \n",
      " 18  AcceptedCmp1          2021 non-null   int64  \n",
      " 19  AcceptedCmp2          2021 non-null   int64  \n",
      " 20  Complain              2021 non-null   int64  \n",
      " 21  Z_CostContact         2021 non-null   int64  \n",
      " 22  Z_Revenue             2021 non-null   int64  \n",
      " 23  Response              2021 non-null   int64  \n",
      " 24  Age                   2021 non-null   int64  \n",
      " 25  Customer_Days         2021 non-null   int64  \n",
      " 26  marital_Divorced      2021 non-null   int64  \n",
      " 27  marital_Married       2021 non-null   int64  \n",
      " 28  marital_Single        2021 non-null   int64  \n",
      " 29  marital_Together      2021 non-null   int64  \n",
      " 30  marital_Widow         2021 non-null   int64  \n",
      " 31  education_2n Cycle    2021 non-null   int64  \n",
      " 32  education_Basic       2021 non-null   int64  \n",
      " 33  education_Graduation  2021 non-null   int64  \n",
      " 34  education_Master      2021 non-null   int64  \n",
      " 35  education_PhD         2021 non-null   int64  \n",
      " 36  MntTotal              2021 non-null   int64  \n",
      " 37  MntRegularProds       2021 non-null   int64  \n",
      " 38  AcceptedCmpOverall    2021 non-null   int64  \n",
      "dtypes: float64(1), int64(38)\n",
      "memory usage: 631.6 KB\n"
     ]
    }
   ],
   "source": [
    "df.info()"
   ]
  },
  {
   "cell_type": "code",
   "execution_count": 9,
   "id": "59a83132",
   "metadata": {
    "execution": {
     "iopub.execute_input": "2024-04-22T18:11:27.675750Z",
     "iopub.status.busy": "2024-04-22T18:11:27.674694Z",
     "iopub.status.idle": "2024-04-22T18:11:27.680633Z",
     "shell.execute_reply": "2024-04-22T18:11:27.679907Z"
    },
    "papermill": {
     "duration": 0.013314,
     "end_time": "2024-04-22T18:11:27.682256",
     "exception": false,
     "start_time": "2024-04-22T18:11:27.668942",
     "status": "completed"
    },
    "tags": []
   },
   "outputs": [],
   "source": [
    "X = df.drop('Response', axis = 1)\n",
    "y = df['Response']"
   ]
  },
  {
   "cell_type": "code",
   "execution_count": 10,
   "id": "a9cfee9e",
   "metadata": {
    "execution": {
     "iopub.execute_input": "2024-04-22T18:11:27.694391Z",
     "iopub.status.busy": "2024-04-22T18:11:27.693299Z",
     "iopub.status.idle": "2024-04-22T18:11:27.702444Z",
     "shell.execute_reply": "2024-04-22T18:11:27.701464Z"
    },
    "papermill": {
     "duration": 0.01696,
     "end_time": "2024-04-22T18:11:27.704258",
     "exception": false,
     "start_time": "2024-04-22T18:11:27.687298",
     "status": "completed"
    },
    "tags": []
   },
   "outputs": [],
   "source": [
    "X_train, X_test, y_train, y_test = train_test_split(X, y, test_size = 0.2, random_state = 42)"
   ]
  },
  {
   "cell_type": "code",
   "execution_count": 11,
   "id": "f5c80e3f",
   "metadata": {
    "execution": {
     "iopub.execute_input": "2024-04-22T18:11:27.717578Z",
     "iopub.status.busy": "2024-04-22T18:11:27.717249Z",
     "iopub.status.idle": "2024-04-22T18:11:28.109962Z",
     "shell.execute_reply": "2024-04-22T18:11:28.108920Z"
    },
    "papermill": {
     "duration": 0.402579,
     "end_time": "2024-04-22T18:11:28.112474",
     "exception": false,
     "start_time": "2024-04-22T18:11:27.709895",
     "status": "completed"
    },
    "tags": []
   },
   "outputs": [
    {
     "data": {
      "text/html": [
       "<style>#sk-container-id-1 {color: black;background-color: white;}#sk-container-id-1 pre{padding: 0;}#sk-container-id-1 div.sk-toggleable {background-color: white;}#sk-container-id-1 label.sk-toggleable__label {cursor: pointer;display: block;width: 100%;margin-bottom: 0;padding: 0.3em;box-sizing: border-box;text-align: center;}#sk-container-id-1 label.sk-toggleable__label-arrow:before {content: \"▸\";float: left;margin-right: 0.25em;color: #696969;}#sk-container-id-1 label.sk-toggleable__label-arrow:hover:before {color: black;}#sk-container-id-1 div.sk-estimator:hover label.sk-toggleable__label-arrow:before {color: black;}#sk-container-id-1 div.sk-toggleable__content {max-height: 0;max-width: 0;overflow: hidden;text-align: left;background-color: #f0f8ff;}#sk-container-id-1 div.sk-toggleable__content pre {margin: 0.2em;color: black;border-radius: 0.25em;background-color: #f0f8ff;}#sk-container-id-1 input.sk-toggleable__control:checked~div.sk-toggleable__content {max-height: 200px;max-width: 100%;overflow: auto;}#sk-container-id-1 input.sk-toggleable__control:checked~label.sk-toggleable__label-arrow:before {content: \"▾\";}#sk-container-id-1 div.sk-estimator input.sk-toggleable__control:checked~label.sk-toggleable__label {background-color: #d4ebff;}#sk-container-id-1 div.sk-label input.sk-toggleable__control:checked~label.sk-toggleable__label {background-color: #d4ebff;}#sk-container-id-1 input.sk-hidden--visually {border: 0;clip: rect(1px 1px 1px 1px);clip: rect(1px, 1px, 1px, 1px);height: 1px;margin: -1px;overflow: hidden;padding: 0;position: absolute;width: 1px;}#sk-container-id-1 div.sk-estimator {font-family: monospace;background-color: #f0f8ff;border: 1px dotted black;border-radius: 0.25em;box-sizing: border-box;margin-bottom: 0.5em;}#sk-container-id-1 div.sk-estimator:hover {background-color: #d4ebff;}#sk-container-id-1 div.sk-parallel-item::after {content: \"\";width: 100%;border-bottom: 1px solid gray;flex-grow: 1;}#sk-container-id-1 div.sk-label:hover label.sk-toggleable__label {background-color: #d4ebff;}#sk-container-id-1 div.sk-serial::before {content: \"\";position: absolute;border-left: 1px solid gray;box-sizing: border-box;top: 0;bottom: 0;left: 50%;z-index: 0;}#sk-container-id-1 div.sk-serial {display: flex;flex-direction: column;align-items: center;background-color: white;padding-right: 0.2em;padding-left: 0.2em;position: relative;}#sk-container-id-1 div.sk-item {position: relative;z-index: 1;}#sk-container-id-1 div.sk-parallel {display: flex;align-items: stretch;justify-content: center;background-color: white;position: relative;}#sk-container-id-1 div.sk-item::before, #sk-container-id-1 div.sk-parallel-item::before {content: \"\";position: absolute;border-left: 1px solid gray;box-sizing: border-box;top: 0;bottom: 0;left: 50%;z-index: -1;}#sk-container-id-1 div.sk-parallel-item {display: flex;flex-direction: column;z-index: 1;position: relative;background-color: white;}#sk-container-id-1 div.sk-parallel-item:first-child::after {align-self: flex-end;width: 50%;}#sk-container-id-1 div.sk-parallel-item:last-child::after {align-self: flex-start;width: 50%;}#sk-container-id-1 div.sk-parallel-item:only-child::after {width: 0;}#sk-container-id-1 div.sk-dashed-wrapped {border: 1px dashed gray;margin: 0 0.4em 0.5em 0.4em;box-sizing: border-box;padding-bottom: 0.4em;background-color: white;}#sk-container-id-1 div.sk-label label {font-family: monospace;font-weight: bold;display: inline-block;line-height: 1.2em;}#sk-container-id-1 div.sk-label-container {text-align: center;}#sk-container-id-1 div.sk-container {/* jupyter's `normalize.less` sets `[hidden] { display: none; }` but bootstrap.min.css set `[hidden] { display: none !important; }` so we also need the `!important` here to be able to override the default hidden behavior on the sphinx rendered scikit-learn.org. See: https://github.com/scikit-learn/scikit-learn/issues/21755 */display: inline-block !important;position: relative;}#sk-container-id-1 div.sk-text-repr-fallback {display: none;}</style><div id=\"sk-container-id-1\" class=\"sk-top-container\"><div class=\"sk-text-repr-fallback\"><pre>RandomForestClassifier()</pre><b>In a Jupyter environment, please rerun this cell to show the HTML representation or trust the notebook. <br />On GitHub, the HTML representation is unable to render, please try loading this page with nbviewer.org.</b></div><div class=\"sk-container\" hidden><div class=\"sk-item\"><div class=\"sk-estimator sk-toggleable\"><input class=\"sk-toggleable__control sk-hidden--visually\" id=\"sk-estimator-id-1\" type=\"checkbox\" checked><label for=\"sk-estimator-id-1\" class=\"sk-toggleable__label sk-toggleable__label-arrow\">RandomForestClassifier</label><div class=\"sk-toggleable__content\"><pre>RandomForestClassifier()</pre></div></div></div></div></div>"
      ],
      "text/plain": [
       "RandomForestClassifier()"
      ]
     },
     "execution_count": 11,
     "metadata": {},
     "output_type": "execute_result"
    }
   ],
   "source": [
    "rfC = RandomForestClassifier()\n",
    "\n",
    "rfC.fit(X_train, y_train)"
   ]
  },
  {
   "cell_type": "code",
   "execution_count": 12,
   "id": "d434cf4e",
   "metadata": {
    "execution": {
     "iopub.execute_input": "2024-04-22T18:11:28.123977Z",
     "iopub.status.busy": "2024-04-22T18:11:28.123654Z",
     "iopub.status.idle": "2024-04-22T18:11:28.129722Z",
     "shell.execute_reply": "2024-04-22T18:11:28.128696Z"
    },
    "papermill": {
     "duration": 0.014052,
     "end_time": "2024-04-22T18:11:28.131694",
     "exception": false,
     "start_time": "2024-04-22T18:11:28.117642",
     "status": "completed"
    },
    "tags": []
   },
   "outputs": [],
   "source": [
    "def evaluate(model, X_test, y_test):\n",
    "    y_pred = model.predict(X_test)\n",
    "    y_prob = model.predict_proba(X_test)[:,1]\n",
    "\n",
    "    roc_prob = roc_auc_score(y_test, y_prob)\n",
    "    \n",
    "    gini_prob = roc_prob*2-1\n",
    "    \n",
    "    precision = precision_score(y_test, y_pred)\n",
    "\n",
    "    recall = recall_score(y_test, y_pred)\n",
    "\n",
    "    \n",
    "    print('Model Performance')\n",
    "    print('-----------------')\n",
    "    print('Gini prob is', gini_prob*100)\n",
    "    print('-----------------')\n",
    "    print('Precision is', precision)\n",
    "    print('-----------------')\n",
    "    print('Recall is', recall)"
   ]
  },
  {
   "cell_type": "code",
   "execution_count": 13,
   "id": "f42a8089",
   "metadata": {
    "execution": {
     "iopub.execute_input": "2024-04-22T18:11:28.142958Z",
     "iopub.status.busy": "2024-04-22T18:11:28.142648Z",
     "iopub.status.idle": "2024-04-22T18:11:28.182500Z",
     "shell.execute_reply": "2024-04-22T18:11:28.181571Z"
    },
    "papermill": {
     "duration": 0.047454,
     "end_time": "2024-04-22T18:11:28.184389",
     "exception": false,
     "start_time": "2024-04-22T18:11:28.136935",
     "status": "completed"
    },
    "tags": []
   },
   "outputs": [
    {
     "name": "stdout",
     "output_type": "stream",
     "text": [
      "Model Performance\n",
      "-----------------\n",
      "Gini prob is 64.84529295589203\n",
      "-----------------\n",
      "Precision is 0.6538461538461539\n",
      "-----------------\n",
      "Recall is 0.27419354838709675\n"
     ]
    }
   ],
   "source": [
    "evaluate(rfC, X_test, y_test)"
   ]
  },
  {
   "cell_type": "code",
   "execution_count": 14,
   "id": "ad8ebee3",
   "metadata": {
    "execution": {
     "iopub.execute_input": "2024-04-22T18:11:28.196660Z",
     "iopub.status.busy": "2024-04-22T18:11:28.195594Z",
     "iopub.status.idle": "2024-04-22T18:11:28.215176Z",
     "shell.execute_reply": "2024-04-22T18:11:28.214047Z"
    },
    "papermill": {
     "duration": 0.027535,
     "end_time": "2024-04-22T18:11:28.217158",
     "exception": false,
     "start_time": "2024-04-22T18:11:28.189623",
     "status": "completed"
    },
    "tags": []
   },
   "outputs": [
    {
     "data": {
      "text/html": [
       "<div>\n",
       "<style scoped>\n",
       "    .dataframe tbody tr th:only-of-type {\n",
       "        vertical-align: middle;\n",
       "    }\n",
       "\n",
       "    .dataframe tbody tr th {\n",
       "        vertical-align: top;\n",
       "    }\n",
       "\n",
       "    .dataframe thead th {\n",
       "        text-align: right;\n",
       "    }\n",
       "</style>\n",
       "<table border=\"1\" class=\"dataframe\">\n",
       "  <thead>\n",
       "    <tr style=\"text-align: right;\">\n",
       "      <th></th>\n",
       "      <th>Feature</th>\n",
       "      <th>Importance</th>\n",
       "    </tr>\n",
       "  </thead>\n",
       "  <tbody>\n",
       "    <tr>\n",
       "      <th>3</th>\n",
       "      <td>Recency</td>\n",
       "      <td>0.0849</td>\n",
       "    </tr>\n",
       "    <tr>\n",
       "      <th>24</th>\n",
       "      <td>Customer_Days</td>\n",
       "      <td>0.0715</td>\n",
       "    </tr>\n",
       "    <tr>\n",
       "      <th>37</th>\n",
       "      <td>AcceptedCmpOverall</td>\n",
       "      <td>0.0702</td>\n",
       "    </tr>\n",
       "    <tr>\n",
       "      <th>0</th>\n",
       "      <td>Income</td>\n",
       "      <td>0.0614</td>\n",
       "    </tr>\n",
       "    <tr>\n",
       "      <th>36</th>\n",
       "      <td>MntRegularProds</td>\n",
       "      <td>0.0541</td>\n",
       "    </tr>\n",
       "    <tr>\n",
       "      <th>4</th>\n",
       "      <td>MntWines</td>\n",
       "      <td>0.0536</td>\n",
       "    </tr>\n",
       "    <tr>\n",
       "      <th>35</th>\n",
       "      <td>MntTotal</td>\n",
       "      <td>0.0526</td>\n",
       "    </tr>\n",
       "    <tr>\n",
       "      <th>6</th>\n",
       "      <td>MntMeatProducts</td>\n",
       "      <td>0.0518</td>\n",
       "    </tr>\n",
       "    <tr>\n",
       "      <th>9</th>\n",
       "      <td>MntGoldProds</td>\n",
       "      <td>0.0489</td>\n",
       "    </tr>\n",
       "    <tr>\n",
       "      <th>23</th>\n",
       "      <td>Age</td>\n",
       "      <td>0.0412</td>\n",
       "    </tr>\n",
       "    <tr>\n",
       "      <th>7</th>\n",
       "      <td>MntFishProducts</td>\n",
       "      <td>0.0355</td>\n",
       "    </tr>\n",
       "    <tr>\n",
       "      <th>13</th>\n",
       "      <td>NumStorePurchases</td>\n",
       "      <td>0.0340</td>\n",
       "    </tr>\n",
       "    <tr>\n",
       "      <th>8</th>\n",
       "      <td>MntSweetProducts</td>\n",
       "      <td>0.0335</td>\n",
       "    </tr>\n",
       "    <tr>\n",
       "      <th>14</th>\n",
       "      <td>NumWebVisitsMonth</td>\n",
       "      <td>0.0325</td>\n",
       "    </tr>\n",
       "    <tr>\n",
       "      <th>5</th>\n",
       "      <td>MntFruits</td>\n",
       "      <td>0.0307</td>\n",
       "    </tr>\n",
       "    <tr>\n",
       "      <th>12</th>\n",
       "      <td>NumCatalogPurchases</td>\n",
       "      <td>0.0304</td>\n",
       "    </tr>\n",
       "    <tr>\n",
       "      <th>17</th>\n",
       "      <td>AcceptedCmp5</td>\n",
       "      <td>0.0248</td>\n",
       "    </tr>\n",
       "    <tr>\n",
       "      <th>11</th>\n",
       "      <td>NumWebPurchases</td>\n",
       "      <td>0.0245</td>\n",
       "    </tr>\n",
       "    <tr>\n",
       "      <th>18</th>\n",
       "      <td>AcceptedCmp1</td>\n",
       "      <td>0.0235</td>\n",
       "    </tr>\n",
       "    <tr>\n",
       "      <th>10</th>\n",
       "      <td>NumDealsPurchases</td>\n",
       "      <td>0.0218</td>\n",
       "    </tr>\n",
       "    <tr>\n",
       "      <th>15</th>\n",
       "      <td>AcceptedCmp3</td>\n",
       "      <td>0.0161</td>\n",
       "    </tr>\n",
       "    <tr>\n",
       "      <th>27</th>\n",
       "      <td>marital_Single</td>\n",
       "      <td>0.0144</td>\n",
       "    </tr>\n",
       "    <tr>\n",
       "      <th>26</th>\n",
       "      <td>marital_Married</td>\n",
       "      <td>0.0115</td>\n",
       "    </tr>\n",
       "    <tr>\n",
       "      <th>2</th>\n",
       "      <td>Teenhome</td>\n",
       "      <td>0.0112</td>\n",
       "    </tr>\n",
       "    <tr>\n",
       "      <th>34</th>\n",
       "      <td>education_PhD</td>\n",
       "      <td>0.0099</td>\n",
       "    </tr>\n",
       "    <tr>\n",
       "      <th>25</th>\n",
       "      <td>marital_Divorced</td>\n",
       "      <td>0.0084</td>\n",
       "    </tr>\n",
       "    <tr>\n",
       "      <th>28</th>\n",
       "      <td>marital_Together</td>\n",
       "      <td>0.0078</td>\n",
       "    </tr>\n",
       "    <tr>\n",
       "      <th>32</th>\n",
       "      <td>education_Graduation</td>\n",
       "      <td>0.0071</td>\n",
       "    </tr>\n",
       "    <tr>\n",
       "      <th>16</th>\n",
       "      <td>AcceptedCmp4</td>\n",
       "      <td>0.0062</td>\n",
       "    </tr>\n",
       "    <tr>\n",
       "      <th>19</th>\n",
       "      <td>AcceptedCmp2</td>\n",
       "      <td>0.0061</td>\n",
       "    </tr>\n",
       "    <tr>\n",
       "      <th>1</th>\n",
       "      <td>Kidhome</td>\n",
       "      <td>0.0061</td>\n",
       "    </tr>\n",
       "    <tr>\n",
       "      <th>33</th>\n",
       "      <td>education_Master</td>\n",
       "      <td>0.0049</td>\n",
       "    </tr>\n",
       "    <tr>\n",
       "      <th>29</th>\n",
       "      <td>marital_Widow</td>\n",
       "      <td>0.0044</td>\n",
       "    </tr>\n",
       "    <tr>\n",
       "      <th>30</th>\n",
       "      <td>education_2n Cycle</td>\n",
       "      <td>0.0026</td>\n",
       "    </tr>\n",
       "    <tr>\n",
       "      <th>31</th>\n",
       "      <td>education_Basic</td>\n",
       "      <td>0.0011</td>\n",
       "    </tr>\n",
       "    <tr>\n",
       "      <th>20</th>\n",
       "      <td>Complain</td>\n",
       "      <td>0.0007</td>\n",
       "    </tr>\n",
       "    <tr>\n",
       "      <th>22</th>\n",
       "      <td>Z_Revenue</td>\n",
       "      <td>0.0000</td>\n",
       "    </tr>\n",
       "    <tr>\n",
       "      <th>21</th>\n",
       "      <td>Z_CostContact</td>\n",
       "      <td>0.0000</td>\n",
       "    </tr>\n",
       "  </tbody>\n",
       "</table>\n",
       "</div>"
      ],
      "text/plain": [
       "                 Feature  Importance\n",
       "3                Recency      0.0849\n",
       "24         Customer_Days      0.0715\n",
       "37    AcceptedCmpOverall      0.0702\n",
       "0                 Income      0.0614\n",
       "36       MntRegularProds      0.0541\n",
       "4               MntWines      0.0536\n",
       "35              MntTotal      0.0526\n",
       "6        MntMeatProducts      0.0518\n",
       "9           MntGoldProds      0.0489\n",
       "23                   Age      0.0412\n",
       "7        MntFishProducts      0.0355\n",
       "13     NumStorePurchases      0.0340\n",
       "8       MntSweetProducts      0.0335\n",
       "14     NumWebVisitsMonth      0.0325\n",
       "5              MntFruits      0.0307\n",
       "12   NumCatalogPurchases      0.0304\n",
       "17          AcceptedCmp5      0.0248\n",
       "11       NumWebPurchases      0.0245\n",
       "18          AcceptedCmp1      0.0235\n",
       "10     NumDealsPurchases      0.0218\n",
       "15          AcceptedCmp3      0.0161\n",
       "27        marital_Single      0.0144\n",
       "26       marital_Married      0.0115\n",
       "2               Teenhome      0.0112\n",
       "34         education_PhD      0.0099\n",
       "25      marital_Divorced      0.0084\n",
       "28      marital_Together      0.0078\n",
       "32  education_Graduation      0.0071\n",
       "16          AcceptedCmp4      0.0062\n",
       "19          AcceptedCmp2      0.0061\n",
       "1                Kidhome      0.0061\n",
       "33      education_Master      0.0049\n",
       "29         marital_Widow      0.0044\n",
       "30    education_2n Cycle      0.0026\n",
       "31       education_Basic      0.0011\n",
       "20              Complain      0.0007\n",
       "22             Z_Revenue      0.0000\n",
       "21         Z_CostContact      0.0000"
      ]
     },
     "execution_count": 14,
     "metadata": {},
     "output_type": "execute_result"
    }
   ],
   "source": [
    "importances = rfC.feature_importances_\n",
    "\n",
    "feature_importances_df = pd.DataFrame({\n",
    "    'Feature': X_train.columns,\n",
    "    'Importance': importances\n",
    "})\n",
    "\n",
    "feature_importances_df = feature_importances_df.sort_values(by='Importance', ascending=False)\n",
    "\n",
    "feature_importances_df"
   ]
  },
  {
   "cell_type": "code",
   "execution_count": 15,
   "id": "5f79429f",
   "metadata": {
    "execution": {
     "iopub.execute_input": "2024-04-22T18:11:28.229394Z",
     "iopub.status.busy": "2024-04-22T18:11:28.229027Z",
     "iopub.status.idle": "2024-04-22T18:11:28.236126Z",
     "shell.execute_reply": "2024-04-22T18:11:28.235030Z"
    },
    "papermill": {
     "duration": 0.01524,
     "end_time": "2024-04-22T18:11:28.237880",
     "exception": false,
     "start_time": "2024-04-22T18:11:28.222640",
     "status": "completed"
    },
    "tags": []
   },
   "outputs": [
    {
     "data": {
      "text/plain": [
       "['Recency',\n",
       " 'Customer_Days',\n",
       " 'AcceptedCmpOverall',\n",
       " 'Income',\n",
       " 'MntRegularProds',\n",
       " 'MntWines',\n",
       " 'MntTotal']"
      ]
     },
     "execution_count": 15,
     "metadata": {},
     "output_type": "execute_result"
    }
   ],
   "source": [
    "k = 7\n",
    "\n",
    "selected_features = feature_importances_df['Feature'][:k].tolist()\n",
    "\n",
    "selected_features"
   ]
  },
  {
   "cell_type": "code",
   "execution_count": 16,
   "id": "3b7f01c5",
   "metadata": {
    "execution": {
     "iopub.execute_input": "2024-04-22T18:11:28.250574Z",
     "iopub.status.busy": "2024-04-22T18:11:28.250259Z",
     "iopub.status.idle": "2024-04-22T18:11:28.573739Z",
     "shell.execute_reply": "2024-04-22T18:11:28.572563Z"
    },
    "papermill": {
     "duration": 0.332455,
     "end_time": "2024-04-22T18:11:28.575992",
     "exception": false,
     "start_time": "2024-04-22T18:11:28.243537",
     "status": "completed"
    },
    "tags": []
   },
   "outputs": [
    {
     "data": {
      "text/html": [
       "<style>#sk-container-id-2 {color: black;background-color: white;}#sk-container-id-2 pre{padding: 0;}#sk-container-id-2 div.sk-toggleable {background-color: white;}#sk-container-id-2 label.sk-toggleable__label {cursor: pointer;display: block;width: 100%;margin-bottom: 0;padding: 0.3em;box-sizing: border-box;text-align: center;}#sk-container-id-2 label.sk-toggleable__label-arrow:before {content: \"▸\";float: left;margin-right: 0.25em;color: #696969;}#sk-container-id-2 label.sk-toggleable__label-arrow:hover:before {color: black;}#sk-container-id-2 div.sk-estimator:hover label.sk-toggleable__label-arrow:before {color: black;}#sk-container-id-2 div.sk-toggleable__content {max-height: 0;max-width: 0;overflow: hidden;text-align: left;background-color: #f0f8ff;}#sk-container-id-2 div.sk-toggleable__content pre {margin: 0.2em;color: black;border-radius: 0.25em;background-color: #f0f8ff;}#sk-container-id-2 input.sk-toggleable__control:checked~div.sk-toggleable__content {max-height: 200px;max-width: 100%;overflow: auto;}#sk-container-id-2 input.sk-toggleable__control:checked~label.sk-toggleable__label-arrow:before {content: \"▾\";}#sk-container-id-2 div.sk-estimator input.sk-toggleable__control:checked~label.sk-toggleable__label {background-color: #d4ebff;}#sk-container-id-2 div.sk-label input.sk-toggleable__control:checked~label.sk-toggleable__label {background-color: #d4ebff;}#sk-container-id-2 input.sk-hidden--visually {border: 0;clip: rect(1px 1px 1px 1px);clip: rect(1px, 1px, 1px, 1px);height: 1px;margin: -1px;overflow: hidden;padding: 0;position: absolute;width: 1px;}#sk-container-id-2 div.sk-estimator {font-family: monospace;background-color: #f0f8ff;border: 1px dotted black;border-radius: 0.25em;box-sizing: border-box;margin-bottom: 0.5em;}#sk-container-id-2 div.sk-estimator:hover {background-color: #d4ebff;}#sk-container-id-2 div.sk-parallel-item::after {content: \"\";width: 100%;border-bottom: 1px solid gray;flex-grow: 1;}#sk-container-id-2 div.sk-label:hover label.sk-toggleable__label {background-color: #d4ebff;}#sk-container-id-2 div.sk-serial::before {content: \"\";position: absolute;border-left: 1px solid gray;box-sizing: border-box;top: 0;bottom: 0;left: 50%;z-index: 0;}#sk-container-id-2 div.sk-serial {display: flex;flex-direction: column;align-items: center;background-color: white;padding-right: 0.2em;padding-left: 0.2em;position: relative;}#sk-container-id-2 div.sk-item {position: relative;z-index: 1;}#sk-container-id-2 div.sk-parallel {display: flex;align-items: stretch;justify-content: center;background-color: white;position: relative;}#sk-container-id-2 div.sk-item::before, #sk-container-id-2 div.sk-parallel-item::before {content: \"\";position: absolute;border-left: 1px solid gray;box-sizing: border-box;top: 0;bottom: 0;left: 50%;z-index: -1;}#sk-container-id-2 div.sk-parallel-item {display: flex;flex-direction: column;z-index: 1;position: relative;background-color: white;}#sk-container-id-2 div.sk-parallel-item:first-child::after {align-self: flex-end;width: 50%;}#sk-container-id-2 div.sk-parallel-item:last-child::after {align-self: flex-start;width: 50%;}#sk-container-id-2 div.sk-parallel-item:only-child::after {width: 0;}#sk-container-id-2 div.sk-dashed-wrapped {border: 1px dashed gray;margin: 0 0.4em 0.5em 0.4em;box-sizing: border-box;padding-bottom: 0.4em;background-color: white;}#sk-container-id-2 div.sk-label label {font-family: monospace;font-weight: bold;display: inline-block;line-height: 1.2em;}#sk-container-id-2 div.sk-label-container {text-align: center;}#sk-container-id-2 div.sk-container {/* jupyter's `normalize.less` sets `[hidden] { display: none; }` but bootstrap.min.css set `[hidden] { display: none !important; }` so we also need the `!important` here to be able to override the default hidden behavior on the sphinx rendered scikit-learn.org. See: https://github.com/scikit-learn/scikit-learn/issues/21755 */display: inline-block !important;position: relative;}#sk-container-id-2 div.sk-text-repr-fallback {display: none;}</style><div id=\"sk-container-id-2\" class=\"sk-top-container\"><div class=\"sk-text-repr-fallback\"><pre>RandomForestClassifier()</pre><b>In a Jupyter environment, please rerun this cell to show the HTML representation or trust the notebook. <br />On GitHub, the HTML representation is unable to render, please try loading this page with nbviewer.org.</b></div><div class=\"sk-container\" hidden><div class=\"sk-item\"><div class=\"sk-estimator sk-toggleable\"><input class=\"sk-toggleable__control sk-hidden--visually\" id=\"sk-estimator-id-2\" type=\"checkbox\" checked><label for=\"sk-estimator-id-2\" class=\"sk-toggleable__label sk-toggleable__label-arrow\">RandomForestClassifier</label><div class=\"sk-toggleable__content\"><pre>RandomForestClassifier()</pre></div></div></div></div></div>"
      ],
      "text/plain": [
       "RandomForestClassifier()"
      ]
     },
     "execution_count": 16,
     "metadata": {},
     "output_type": "execute_result"
    }
   ],
   "source": [
    "rfC_fi = RandomForestClassifier()\n",
    "\n",
    "rfC_fi.fit(X_train[selected_features],y_train)"
   ]
  },
  {
   "cell_type": "code",
   "execution_count": 17,
   "id": "ff879d1b",
   "metadata": {
    "execution": {
     "iopub.execute_input": "2024-04-22T18:11:28.589528Z",
     "iopub.status.busy": "2024-04-22T18:11:28.589188Z",
     "iopub.status.idle": "2024-04-22T18:11:28.623697Z",
     "shell.execute_reply": "2024-04-22T18:11:28.622521Z"
    },
    "papermill": {
     "duration": 0.043603,
     "end_time": "2024-04-22T18:11:28.625719",
     "exception": false,
     "start_time": "2024-04-22T18:11:28.582116",
     "status": "completed"
    },
    "tags": []
   },
   "outputs": [
    {
     "name": "stdout",
     "output_type": "stream",
     "text": [
      "Model Performance\n",
      "-----------------\n",
      "Gini prob is 61.51133264365656\n",
      "-----------------\n",
      "Precision is 0.5277777777777778\n",
      "-----------------\n",
      "Recall is 0.3064516129032258\n"
     ]
    }
   ],
   "source": [
    "evaluate(rfC_fi, X_test[selected_features], y_test)"
   ]
  },
  {
   "cell_type": "code",
   "execution_count": 18,
   "id": "ff8813f7",
   "metadata": {
    "execution": {
     "iopub.execute_input": "2024-04-22T18:11:28.639655Z",
     "iopub.status.busy": "2024-04-22T18:11:28.638418Z",
     "iopub.status.idle": "2024-04-22T18:11:28.953331Z",
     "shell.execute_reply": "2024-04-22T18:11:28.951994Z"
    },
    "papermill": {
     "duration": 0.324247,
     "end_time": "2024-04-22T18:11:28.955798",
     "exception": false,
     "start_time": "2024-04-22T18:11:28.631551",
     "status": "completed"
    },
    "tags": []
   },
   "outputs": [
    {
     "data": {
      "image/png": "[encoded data removed]",
      "text/plain": [
       "<Figure size 640x480 with 1 Axes>"
      ]
     },
     "metadata": {},
     "output_type": "display_data"
    }
   ],
   "source": [
    "y_prob = rfC.predict_proba(X_test)[:,1]\n",
    "\n",
    "roc_auc = roc_auc_score(y_test, y_prob)\n",
    "gini = (2*roc_auc_score(y_test, y_prob))-1\n",
    "\n",
    "fpr, tpr, thresholds = roc_curve(y_test, y_prob)\n",
    "plt.figure()\n",
    "\n",
    "plt.plot(fpr, tpr, label='(Roc_Auc = %0.2f)' % roc_auc)\n",
    "plt.plot(fpr, tpr, label='(Gini = %0.2f)' % gini)\n",
    "plt.plot([0, 1], [0, 1])\n",
    "plt.xlim()\n",
    "plt.ylim()\n",
    "\n",
    "plt.xlabel('False Positive Rate')\n",
    "plt.ylabel('True Positive Rate')\n",
    "plt.title('ROC Curve')\n",
    "\n",
    "plt.legend(loc='lower right')\n",
    "plt.show()"
   ]
  }
 ],
 "metadata": {
  "kaggle": {
   "accelerator": "none",
   "dataSources": [
    {
     "datasetId": 1046184,
     "sourceId": 3263541,
     "sourceType": "datasetVersion"
    }
   ],
   "dockerImageVersionId": 30702,
   "isGpuEnabled": false,
   "isInternetEnabled": true,
   "language": "python",
   "sourceType": "notebook"
  },
  "kernelspec": {
   "display_name": "Python 3",
   "language": "python",
   "name": "python3"
  },
  "language_info": {
   "codemirror_mode": {
    "name": "ipython",
    "version": 3
   },
   "file_extension": ".py",
   "mimetype": "text/x-python",
   "name": "python",
   "nbconvert_exporter": "python",
   "pygments_lexer": "ipython3",
   "version": "3.10.13"
  },
  "papermill": {
   "default_parameters": {},
   "duration": 9.896943,
   "end_time": "2024-04-22T18:11:32.370048",
   "environment_variables": {},
   "exception": null,
   "input_path": "__notebook__.ipynb",
   "output_path": "__notebook__.ipynb",
   "parameters": {},
   "start_time": "2024-04-22T18:11:22.473105",
   "version": "2.5.0"
  }
 },
 "nbformat": 4,
 "nbformat_minor": 5
}
